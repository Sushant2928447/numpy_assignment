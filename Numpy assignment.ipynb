{
 "cells": [
  {
   "cell_type": "code",
   "execution_count": 1,
   "id": "873f25f8-14f1-4f3f-871b-9f26bb5cfe5c",
   "metadata": {},
   "outputs": [],
   "source": [
    "import numpy as np"
   ]
  },
  {
   "cell_type": "code",
   "execution_count": 3,
   "id": "eaaa5981-42aa-4532-a287-324e192148ea",
   "metadata": {},
   "outputs": [
    {
     "name": "stdout",
     "output_type": "stream",
     "text": [
      "Data type:\n",
      "int64\n"
     ]
    }
   ],
   "source": [
    "\n",
    "#1. Create a NumPy array 'arr' of integers from 0 to 5 and print its data type.\n",
    "\n",
    "arr = np.array([1,2,3,4,5])\n",
    "print(\"Data type:\")\n",
    "\n",
    "print(arr.dtype)\n",
    "\n"
   ]
  },
  {
   "cell_type": "code",
   "execution_count": 2,
   "id": "e8219eb2-dc7f-478d-bd72-b20b481f538e",
   "metadata": {},
   "outputs": [
    {
     "name": "stdout",
     "output_type": "stream",
     "text": [
      "Its Datatype is:\n",
      "float64\n"
     ]
    }
   ],
   "source": [
    "#2. Given a NumPy array 'arr', check if its data type is float64.\n",
    "arr = np.array([1.5, 2.6, 3.7])\n",
    "print(\"Its Datatype is:\")\n",
    "print(arr.dtype)"
   ]
  },
  {
   "cell_type": "code",
   "execution_count": 13,
   "id": "9700e51c-d22d-4eaf-91d6-1b34f69db06c",
   "metadata": {},
   "outputs": [
    {
     "name": "stdout",
     "output_type": "stream",
     "text": [
      "[1.+2.j 3.-4.j 5.+6.j]\n",
      "complex128\n"
     ]
    }
   ],
   "source": [
    "#3. Create a NumPy array 'arr' with a data type of complex128 containing three complex numbers.\n",
    "arr = np.array([1 + 2j , 3 - 4j , 5 + 6j], dtype=np.complex128)\n",
    "print(arr)\n",
    "print(arr.dtype)"
   ]
  },
  {
   "cell_type": "code",
   "execution_count": 15,
   "id": "f5d15186-1899-48df-ba93-3bdafbe9fede",
   "metadata": {},
   "outputs": [
    {
     "name": "stdout",
     "output_type": "stream",
     "text": [
      "[1. 2. 3. 4. 5. 6.]\n",
      "float32\n"
     ]
    }
   ],
   "source": [
    "#4. Convert an existing NumPy array 'arr' of integers to float32 data type.\n",
    "arr= np.array([1,2,3,4,5,6],dtype=np.int32)\n",
    "\n",
    "#convert to float\n",
    "arr_float32 = arr.astype(np.float32)\n",
    "\n",
    "print(arr_float32)\n",
    "print(arr_float32.dtype)"
   ]
  },
  {
   "cell_type": "code",
   "execution_count": 16,
   "id": "d4bcff8a-992c-4728-89f9-b3807c9ced0f",
   "metadata": {},
   "outputs": [
    {
     "name": "stdout",
     "output_type": "stream",
     "text": [
      "Original Array:\n",
      " [1. 1. 1. 1.] \n",
      "\n",
      "type of Original Array:\n",
      " float64 \n",
      "\n",
      "type of modified array:\n",
      " float32 \n",
      "\n"
     ]
    }
   ],
   "source": [
    "#5. Given a NumPy array 'arr' with float64 data type, convert it to float32 to reduce decimal precision.\n",
    "# Creating a numpy array\n",
    "arr = np.ones(4,dtype=\"float64\")\n",
    "\n",
    "# Display original array\n",
    "print(\"Original Array:\\n\",arr,\"\\n\")\n",
    "\n",
    "# Display type of original array\n",
    "print(\"type of Original Array:\\n\",arr.dtype,\"\\n\")\n",
    "\n",
    "# Converting array into float32\n",
    "arr = np.float32(arr)\n",
    "\n",
    "# Display type of modified array\n",
    "print(\"type of modified array:\\n\",arr.dtype,\"\\n\")"
   ]
  },
  {
   "cell_type": "code",
   "execution_count": 17,
   "id": "8d3d6727-f774-4711-a2bf-7828db9b8759",
   "metadata": {},
   "outputs": [
    {
     "name": "stdout",
     "output_type": "stream",
     "text": [
      "arr:\n",
      "[[0. 0. 0. 0.]\n",
      " [0. 0. 0. 0.]\n",
      " [0. 0. 0. 0.]]\n",
      "Shape of the array: (3, 4)\n",
      "Size of the array: 12\n",
      "Type of the array: float64\n"
     ]
    }
   ],
   "source": [
    "#6. Write a function array_attributes that takes a NumPy array as input and returns its shape, size, and data type.\n",
    "arr = np.zeros((3,4))\n",
    "print(\"arr:\")\n",
    "print(arr)\n",
    "print(\"Shape of the array:\",arr.shape)\n",
    "\n",
    "print(\"Size of the array:\",arr.size)\n",
    "\n",
    "print(\"Type of the array:\",(arr.dtype))"
   ]
  },
  {
   "cell_type": "code",
   "execution_count": 22,
   "id": "1fcecdb6-1aef-41f6-aaa5-78849705c821",
   "metadata": {},
   "outputs": [
    {
     "name": "stdout",
     "output_type": "stream",
     "text": [
      "array_dimension\n",
      "[[1. 1. 1. 1.]\n",
      " [1. 1. 1. 1.]\n",
      " [1. 1. 1. 1.]]\n",
      "dimension\n",
      "2\n"
     ]
    }
   ],
   "source": [
    "#7. Create a function array_dimension that takes a NumPy array as input and returns its dimensionality\n",
    "array_dimension = np.ones((3,4))\n",
    "print(\"array_dimension\")\n",
    "print(array_dimension)\n",
    "\n",
    "print(\"dimension\")\n",
    "print(array_dimension.ndim)"
   ]
  },
  {
   "cell_type": "code",
   "execution_count": 23,
   "id": "26876eaf-f6bf-4c37-b0c3-54fa6ded2578",
   "metadata": {},
   "outputs": [
    {
     "name": "stdout",
     "output_type": "stream",
     "text": [
      "Size of the array:  6\n",
      "Memory size of one array element in bytes:  8\n",
      "Memory size of numpy array in bytes: 48\n"
     ]
    }
   ],
   "source": [
    "#8. Design a function item_size_info that takes a NumPy array as input and returns the item size and the total size in bytes.\n",
    "# create a numpy 2d-array\n",
    "x = np.array([[100, 20, 34],\n",
    "[300, 400, 600]])\n",
    "\n",
    "print(\"Size of the array: \",\n",
    "x.size)\n",
    "\n",
    "print(\"Memory size of one array element in bytes: \",\n",
    "x.itemsize)\n",
    "\n",
    "# memory size of numpy array\n",
    "print(\"Memory size of numpy array in bytes:\",\n",
    "\tx.size * x.itemsize)"
   ]
  },
  {
   "cell_type": "code",
   "execution_count": 26,
   "id": "2178b166-0db6-4ee1-a311-a58412912848",
   "metadata": {},
   "outputs": [
    {
     "name": "stdout",
     "output_type": "stream",
     "text": [
      "Array_strides:\n",
      "[[1. 1. 1. 1. 1. 1. 1. 1. 1. 1.]\n",
      " [1. 1. 1. 1. 1. 1. 1. 1. 1. 1.]\n",
      " [1. 1. 1. 1. 1. 1. 1. 1. 1. 1.]\n",
      " [1. 1. 1. 1. 1. 1. 1. 1. 1. 1.]\n",
      " [1. 1. 1. 1. 1. 1. 1. 1. 1. 1.]\n",
      " [1. 1. 1. 1. 1. 1. 1. 1. 1. 1.]\n",
      " [1. 1. 1. 1. 1. 1. 1. 1. 1. 1.]\n",
      " [1. 1. 1. 1. 1. 1. 1. 1. 1. 1.]\n",
      " [1. 1. 1. 1. 1. 1. 1. 1. 1. 1.]\n",
      " [1. 1. 1. 1. 1. 1. 1. 1. 1. 1.]]\n",
      "Array_strides: (80, 8)\n"
     ]
    }
   ],
   "source": [
    "#9. Create a function array_strides that takes a NumPy array as input and returns the strides of the array.\n",
    "array_strides = np.ones((10,10))\n",
    "\n",
    "print(\"Array_strides:\")\n",
    "print(array_strides)\n",
    "\n",
    "print(\"Array_strides:\",array_strides.strides)"
   ]
  },
  {
   "cell_type": "code",
   "execution_count": 27,
   "id": "03470299-3909-4273-b7bd-5bb88105d370",
   "metadata": {},
   "outputs": [
    {
     "name": "stdout",
     "output_type": "stream",
     "text": [
      "Array:\n",
      "[[1 2 3]\n",
      " [4 5 6]]\n",
      "Shape_stride_relationships: [[1 2 3]\n",
      " [4 5 6]]\n",
      "Shape of the strides: (2, 3)\n"
     ]
    }
   ],
   "source": [
    "#10. Design a function shape_stride_relationship that takes a NumPy array as input and returns the shape and strides of the array.\n",
    "\n",
    "arr = np.array ([[1,2,3], [4,5,6]])\n",
    "\n",
    "print(\"Array:\")\n",
    "print(arr)\n",
    "\n",
    "print(\"Shape_stride_relationships:\",arr)\n",
    "\n",
    "print(\"Shape of the strides:\",arr.shape)\n",
    "\n"
   ]
  },
  {
   "cell_type": "code",
   "execution_count": 28,
   "id": "ebb41ec0-5014-4297-ba2c-fb5d0cb85589",
   "metadata": {},
   "outputs": [
    {
     "name": "stdout",
     "output_type": "stream",
     "text": [
      "[0. 0. 0. 0. 0.]\n"
     ]
    }
   ],
   "source": [
    "#11. Create a function `create_zeros_array` that takes an integer `n` as input and returns a NumPy array of zeros with `n` elements.\n",
    "\n",
    "def create_zeros_array(n):\n",
    "    return np.zeros(n)\n",
    "n_elements = 5\n",
    "zeros_array = create_zeros_array(n_elements)\n",
    "print(zeros_array)"
   ]
  },
  {
   "cell_type": "code",
   "execution_count": 30,
   "id": "f2218f87-9c3d-4bae-a818-00a832b85ce8",
   "metadata": {},
   "outputs": [
    {
     "name": "stdout",
     "output_type": "stream",
     "text": [
      "[[1. 1. 1. 1.]\n",
      " [1. 1. 1. 1.]\n",
      " [1. 1. 1. 1.]]\n"
     ]
    }
   ],
   "source": [
    "#12. Write a function `create_ones_matrix` that takes integers `rows` and `cols` as inputs and generates a 2D NumPy array filled with ones of size `rows x cols`.\n",
    "\n",
    "def create_ones_matrix(rows, cols):\n",
    "    return np.ones((rows, cols))\n",
    "rows = 3\n",
    "cols = 4\n",
    "ones_matrix = create_ones_matrix(rows, cols)\n",
    "print(ones_matrix)\n",
    "\n"
   ]
  },
  {
   "cell_type": "code",
   "execution_count": 32,
   "id": "cfa7b3c0-11a9-4ba9-a3af-8b2081a01088",
   "metadata": {},
   "outputs": [
    {
     "name": "stdout",
     "output_type": "stream",
     "text": [
      "Generate_range_array:\n",
      "[1.  1.1 1.2 1.3 1.4 1.5 1.6 1.7 1.8 1.9 2.  2.1 2.2 2.3 2.4 2.5 2.6 2.7\n",
      " 2.8 2.9 3.  3.1 3.2 3.3 3.4 3.5 3.6 3.7 3.8 3.9 4.  4.1 4.2 4.3 4.4 4.5\n",
      " 4.6 4.7 4.8 4.9 5.  5.1 5.2 5.3 5.4 5.5 5.6 5.7 5.8 5.9 6.  6.1 6.2 6.3\n",
      " 6.4 6.5 6.6 6.7 6.8 6.9 7.  7.1 7.2 7.3 7.4 7.5 7.6 7.7 7.8 7.9 8.  8.1\n",
      " 8.2 8.3 8.4 8.5 8.6 8.7 8.8 8.9 9.  9.1 9.2 9.3 9.4 9.5 9.6 9.7 9.8 9.9]\n"
     ]
    }
   ],
   "source": [
    "#13. Write a function `generate_range_array` that takes three integers start, stop, and step as arguments and\n",
    "#creates a NumPy array with a range starting from `start`, ending at stop (exclusive), and with the specified `step.\n",
    "\n",
    "arr = np.arange (1,10,0.1)\n",
    "\n",
    "print(\"Generate_range_array:\")\n",
    "print(arr)"
   ]
  },
  {
   "cell_type": "code",
   "execution_count": 36,
   "id": "5eb4f5b1-937a-4a83-8ece-8036e727f588",
   "metadata": {},
   "outputs": [
    {
     "name": "stdout",
     "output_type": "stream",
     "text": [
      "Array\n",
      "(1.2, 5.7, 10)\n",
      "Generate_linear_space:\n",
      "[1.2        1.29183673 1.38367347 1.4755102  1.56734694 1.65918367\n",
      " 1.75102041 1.84285714 1.93469388 2.02653061 2.11836735 2.21020408\n",
      " 2.30204082 2.39387755 2.48571429 2.57755102 2.66938776 2.76122449\n",
      " 2.85306122 2.94489796 3.03673469 3.12857143 3.22040816 3.3122449\n",
      " 3.40408163 3.49591837 3.5877551  3.67959184 3.77142857 3.86326531\n",
      " 3.95510204 4.04693878 4.13877551 4.23061224 4.32244898 4.41428571\n",
      " 4.50612245 4.59795918 4.68979592 4.78163265 4.87346939 4.96530612\n",
      " 5.05714286 5.14897959 5.24081633 5.33265306 5.4244898  5.51632653\n",
      " 5.60816327 5.7       ]\n"
     ]
    }
   ],
   "source": [
    "#14  Design a function `generate_linear_space` that takes two floats `start`, `stop`, and an integer `num` as arguments and generates a NumPy array with num equally spaced values between `start` and `stop` (inclusive).\n",
    "\n",
    "arr=(1.2,5.7,10)\n",
    "print(\"Array\")\n",
    "print(arr)\n",
    "\n",
    "print(\"Generate_linear_space:\")\n",
    "print(np.linspace(1.2,5.7))\n",
    "\n"
   ]
  },
  {
   "cell_type": "code",
   "execution_count": 28,
   "id": "55799814-e019-4067-9c18-aa36a43fb086",
   "metadata": {},
   "outputs": [
    {
     "name": "stdout",
     "output_type": "stream",
     "text": [
      "Identity_matrix:\n",
      "[[1. 0. 0. 0. 0.]\n",
      " [0. 1. 0. 0. 0.]\n",
      " [0. 0. 1. 0. 0.]\n",
      " [0. 0. 0. 1. 0.]\n",
      " [0. 0. 0. 0. 1.]]\n"
     ]
    }
   ],
   "source": [
    "#15. Create a function `create_identity_matrix` that takes an integer `n` as input and generates a square identity matrix of size `n x n` using `numpy.eye`.\n",
    "\n",
    "identity_matrix = np.eye(5)\n",
    "print(\"Identity_matrix:\")\n",
    "\n",
    "print(identity_matrix)"
   ]
  },
  {
   "cell_type": "code",
   "execution_count": 12,
   "id": "ff8d66a1-3897-450e-a2b8-f2af5f01d625",
   "metadata": {},
   "outputs": [
    {
     "name": "stdout",
     "output_type": "stream",
     "text": [
      "Array:\n",
      "['1' '2' '3' 'sushant' '(3+5j)' 'True' '2.55']\n"
     ]
    }
   ],
   "source": [
    "#16. Write a function that takes a Python list and converts it into a NumPy array.\n",
    "a = [1,2,3,\"sushant\",3+5j,True,2.55]\n",
    "arr =np.array(a)\n",
    "\n",
    "print(\"Array:\")\n",
    "print(arr)"
   ]
  },
  {
   "cell_type": "code",
   "execution_count": 13,
   "id": "b2b3b154-77c9-4745-a06e-4a23c4944c5e",
   "metadata": {},
   "outputs": [
    {
     "name": "stdout",
     "output_type": "stream",
     "text": [
      "Original array:\n",
      "[1 2 3 4 5]\n",
      "\n",
      "View array with dtype=np.int16:\n",
      "[1 0 0 0 2 0 0 0 3 0 0 0 4 0 0 0 5 0 0 0]\n"
     ]
    }
   ],
   "source": [
    "#17. Create a NumPy array and demonstrate the use of `numpy.view` to create a new array object with the same data.\n",
    "\n",
    "original_array = np.array([1, 2, 3, 4, 5])\n",
    "print(\"Original array:\")\n",
    "print(original_array)\n",
    "# Create a view with a different data type (int16)\n",
    "view_array = original_array.view(dtype=np.int16)\n",
    "print(\"\\nView array with dtype=np.int16:\")\n",
    "print(view_array)\n",
    "\n"
   ]
  },
  {
   "cell_type": "markdown",
   "id": "04b1c7f2-3ddf-4243-9735-32c26f41b5bb",
   "metadata": {},
   "source": [
    "CHECK 17 QUESTIONS\n"
   ]
  },
  {
   "cell_type": "code",
   "execution_count": 56,
   "id": "b1ca97e7-0786-40f2-a944-22ccc217782b",
   "metadata": {},
   "outputs": [
    {
     "name": "stdout",
     "output_type": "stream",
     "text": [
      "Concatenated array:\n",
      "[[1 2]\n",
      " [3 4]\n",
      " [5 6]]\n"
     ]
    }
   ],
   "source": [
    "#18. Write a function that takes two NumPy arrays and concatenates them along a specified axis.\n",
    "\n",
    "array1 = np.array([[1, 2], [3, 4]])\n",
    "array2 = np.array([[5, 6]])\n",
    "\n",
    "# Concatenate along axis 0 (vertically)\n",
    "result = np.concatenate((array1, array2), axis=0)\n",
    "\n",
    "print(\"Concatenated array:\")\n",
    "print(result)"
   ]
  },
  {
   "cell_type": "code",
   "execution_count": 57,
   "id": "b26a50a8-a531-41d8-9486-2b4f902e6315",
   "metadata": {},
   "outputs": [
    {
     "name": "stdout",
     "output_type": "stream",
     "text": [
      "Array1:\n",
      "[[1 2]\n",
      " [3 4]]\n",
      "Array2:\n",
      "[5 6]\n",
      "Concatenated array:\n",
      "[[1 2 5]\n",
      " [3 4 6]]\n"
     ]
    }
   ],
   "source": [
    "#19. Create two NumPy arrays with different shapes and concatenate them horizontally using `numpy. concatenate`.\n",
    "\n",
    "# Create two sample arrays with different shapes\n",
    "array1 = np.array([[1, 2], [3, 4]])  \n",
    "array2 = np.array([5, 6])  \n",
    "\n",
    "print(\"Array1:\")\n",
    "print(array1)\n",
    "\n",
    "print(\"Array2:\")\n",
    "print(array2)\n",
    "\n",
    "# Horizontally stack them\n",
    "result = np.hstack((array1, array2[:, np.newaxis]))\n",
    "\n",
    "print(\"Concatenated array:\")\n",
    "print(result)\n"
   ]
  },
  {
   "cell_type": "code",
   "execution_count": 30,
   "id": "ca4a2d6d-da45-423f-abff-c67503bf3ea5",
   "metadata": {},
   "outputs": [
    {
     "name": "stdout",
     "output_type": "stream",
     "text": [
      "Array1:\n",
      "[[1 2]\n",
      " [3 4]]\n",
      "Array2:\n",
      "[[5 6]\n",
      " [7 8]]\n",
      "Stacked result:\n",
      "[[1 2]\n",
      " [3 4]\n",
      " [5 6]\n",
      " [7 8]]\n"
     ]
    }
   ],
   "source": [
    "#20. Write a function that vertically stacks multiple NumPy arrays given as a list.\n",
    "\n",
    "arr1 = np.array([[1, 2], [3, 4]])\n",
    "arr2 = np.array([[5, 6], [7, 8]])\n",
    "stacked_result = np.vstack([arr1, arr2])\n",
    "print(\"Array1:\")\n",
    "print(arr1)\n",
    "print(\"Array2:\")\n",
    "print(arr2)\n",
    "print(\"Stacked result:\")\n",
    "print(stacked_result)"
   ]
  },
  {
   "cell_type": "code",
   "execution_count": 32,
   "id": "a0db4317-976e-49f1-aaef-bed194254cae",
   "metadata": {},
   "outputs": [
    {
     "name": "stdout",
     "output_type": "stream",
     "text": [
      "Array of all the even integers from 30 to 70\n",
      "[30 32 34 36 38 40 42 44 46 48 50 52 54 56 58 60 62 64 66 68 70]\n"
     ]
    }
   ],
   "source": [
    "#21. Write a Python function using NumPy to create an array of integers within a specified range (inclusive) with a given step size.\n",
    "\n",
    "# Creating an array of even integers from 30 to 70 (inclusive) with a step size of 2 using np.arange()\n",
    "array = np.arange(30, 71, 2)\n",
    "\n",
    "# Printing a message indicating an array of all the even integers from 30 to 70.\n",
    "print(\"Array of all the even integers from 30 to 70\")\n",
    "print(array) "
   ]
  },
  {
   "cell_type": "code",
   "execution_count": 34,
   "id": "ebfa3a69-1f3a-4a50-9c04-61d7ba38c3cc",
   "metadata": {},
   "outputs": [
    {
     "name": "stdout",
     "output_type": "stream",
     "text": [
      "array1:\n",
      "[0.  0.1 0.2 0.3 0.4 0.5 0.6 0.7 0.8 0.9]\n"
     ]
    }
   ],
   "source": [
    "#22. Write a Python function using NumPy to generate an array of 10 equally spaced values between 0 and 1 (inclusive).\n",
    "\n",
    "array1 = np.arange(0,1,0.1)\n",
    "print(\"array1:\")\n",
    "print(array1)"
   ]
  },
  {
   "cell_type": "code",
   "execution_count": 35,
   "id": "fbfd75f6-5195-49f6-a15d-85a905f361fe",
   "metadata": {},
   "outputs": [
    {
     "name": "stdout",
     "output_type": "stream",
     "text": [
      "[   1.            5.62341325   31.6227766   177.827941   1000.        ]\n"
     ]
    }
   ],
   "source": [
    "#23. Write a Python function using NumPy to create an array of 5 logarithmically spaced values between 1 and 1000 (inclusive).\n",
    "\n",
    "# Generate 5 logarithmically spaced values between 1 and 1000\n",
    "log_spaced_values = np.geomspace(1, 1000, num=5)\n",
    "\n",
    "print(log_spaced_values)\n"
   ]
  },
  {
   "cell_type": "code",
   "execution_count": 36,
   "id": "5bf7128b-097c-4baf-9738-48c30a5617a1",
   "metadata": {},
   "outputs": [
    {
     "name": "stdout",
     "output_type": "stream",
     "text": [
      "   Column_A  Column_B  Column_C\n",
      "0        16        88        40\n",
      "1        88        94        87\n",
      "2        31        91        82\n",
      "3        25        57        95\n",
      "4        26        80        90\n"
     ]
    }
   ],
   "source": [
    "#24. Create a Pandas DataFrame using a NumPy array that contains 5 rows and 3 columns, where the values are random integers between 1 and 100.\n",
    "# importing pandas and numpy libraries\n",
    "import numpy as np\n",
    "import pandas as pd\n",
    "\n",
    "data = np.random.randint(1, 100, size=(5, 3))\n",
    "df = pd.DataFrame(data, columns=['Column_A',\n",
    "                                 'Column_B',\n",
    "                                 'Column_C'])\n",
    "\n",
    "# displaying random integers in the dataframe\n",
    "print(df)\n"
   ]
  },
  {
   "cell_type": "code",
   "execution_count": 38,
   "id": "84a8440a-4f1f-454c-beab-843f77a3c1c3",
   "metadata": {},
   "outputs": [
    {
     "name": "stdout",
     "output_type": "stream",
     "text": [
      "Original Array :\n",
      "   A  B  C   D\n",
      "0  1  3 -4  34\n",
      "1  2 -5  5   5\n",
      "2 -3 -6  6  32\n",
      "3  4  7 -7  -3\n",
      "4 -5  3  5 -56\n",
      "5  6 -2  4 -54\n",
      "New Array :\n"
     ]
    },
    {
     "data": {
      "text/html": [
       "<div>\n",
       "<style scoped>\n",
       "    .dataframe tbody tr th:only-of-type {\n",
       "        vertical-align: middle;\n",
       "    }\n",
       "\n",
       "    .dataframe tbody tr th {\n",
       "        vertical-align: top;\n",
       "    }\n",
       "\n",
       "    .dataframe thead th {\n",
       "        text-align: right;\n",
       "    }\n",
       "</style>\n",
       "<table border=\"1\" class=\"dataframe\">\n",
       "  <thead>\n",
       "    <tr style=\"text-align: right;\">\n",
       "      <th></th>\n",
       "      <th>A</th>\n",
       "      <th>B</th>\n",
       "      <th>C</th>\n",
       "      <th>D</th>\n",
       "    </tr>\n",
       "  </thead>\n",
       "  <tbody>\n",
       "    <tr>\n",
       "      <th>0</th>\n",
       "      <td>1</td>\n",
       "      <td>3</td>\n",
       "      <td>0</td>\n",
       "      <td>34</td>\n",
       "    </tr>\n",
       "    <tr>\n",
       "      <th>1</th>\n",
       "      <td>2</td>\n",
       "      <td>0</td>\n",
       "      <td>5</td>\n",
       "      <td>5</td>\n",
       "    </tr>\n",
       "    <tr>\n",
       "      <th>2</th>\n",
       "      <td>0</td>\n",
       "      <td>0</td>\n",
       "      <td>6</td>\n",
       "      <td>32</td>\n",
       "    </tr>\n",
       "    <tr>\n",
       "      <th>3</th>\n",
       "      <td>4</td>\n",
       "      <td>7</td>\n",
       "      <td>0</td>\n",
       "      <td>0</td>\n",
       "    </tr>\n",
       "    <tr>\n",
       "      <th>4</th>\n",
       "      <td>0</td>\n",
       "      <td>3</td>\n",
       "      <td>5</td>\n",
       "      <td>0</td>\n",
       "    </tr>\n",
       "    <tr>\n",
       "      <th>5</th>\n",
       "      <td>6</td>\n",
       "      <td>0</td>\n",
       "      <td>4</td>\n",
       "      <td>0</td>\n",
       "    </tr>\n",
       "  </tbody>\n",
       "</table>\n",
       "</div>"
      ],
      "text/plain": [
       "   A  B  C   D\n",
       "0  1  3  0  34\n",
       "1  2  0  5   5\n",
       "2  0  0  6  32\n",
       "3  4  7  0   0\n",
       "4  0  3  5   0\n",
       "5  6  0  4   0"
      ]
     },
     "execution_count": 38,
     "metadata": {},
     "output_type": "execute_result"
    }
   ],
   "source": [
    "#25. Write a function that takes a Pandas DataFrame and replaces all negative values in a specific column with zeros. Use NumPy operations within the Pandas DataFrame.\n",
    "\n",
    "df = pd.DataFrame({\"A\": [1, 2, -3, 4, -5, 6], \n",
    "                   \"B\": [3, -5, -6, 7, 3, -2], \n",
    "                   \"C\": [-4, 5, 6, -7, 5, 4], \n",
    "                   \"D\": [34, 5, 32, -3, -56, -54]}) \n",
    "  \n",
    "# Displaying the original DataFrame \n",
    "print(\"Original Array :\") \n",
    "print(df)\n",
    "\n",
    "df[df < 0] = 0\n",
    "print(\"New Array :\") \n",
    "df"
   ]
  },
  {
   "cell_type": "code",
   "execution_count": 39,
   "id": "5ddce066-43df-4a31-a7fe-551691c024ae",
   "metadata": {},
   "outputs": [
    {
     "name": "stdout",
     "output_type": "stream",
     "text": [
      "arr 3rd element: 30\n"
     ]
    }
   ],
   "source": [
    "#26. Access the 3rd element from the given NumPy array.\n",
    "\n",
    "arr = np.array([10, 20, 30, 40, 50])\n",
    "\n",
    "print(\"arr 3rd element:\",arr[2])"
   ]
  },
  {
   "cell_type": "code",
   "execution_count": 40,
   "id": "7edc3a7f-29aa-4191-8c8e-dfdddb211dc3",
   "metadata": {},
   "outputs": [
    {
     "name": "stdout",
     "output_type": "stream",
     "text": [
      "arr-2d index[1]: [4 5 6]\n",
      "arr_2d index[2]: [7 8 9]\n"
     ]
    }
   ],
   "source": [
    "# 27. Retrieve the element at index (1, 2) from the 2D NumPy array.\n",
    "\n",
    "arr_2d = np.array([[1, 2, 3],\n",
    "                   [4, 5, 6],\n",
    "                   [7, 8, 9]])\n",
    "\n",
    "print(\"arr-2d index[1]:\",arr_2d[1])\n",
    "\n",
    "print(\"arr_2d index[2]:\",arr_2d[2])"
   ]
  },
  {
   "cell_type": "code",
   "execution_count": 41,
   "id": "b3609dd9-422d-4aab-a4fb-054a186c71d7",
   "metadata": {},
   "outputs": [
    {
     "name": "stdout",
     "output_type": "stream",
     "text": [
      "boolean_indexing: [ 8 10  7]\n"
     ]
    }
   ],
   "source": [
    "#28. Using boolean indexing, extract elements greater than 5 from the given NumPy array.\n",
    "\n",
    "arr = np.array([3, 8, 2, 10, 5, 7])\n",
    "boolean_indexing = arr[arr > 5]\n",
    "\n",
    "print(\"boolean_indexing:\",arr[arr>5])    \n"
   ]
  },
  {
   "cell_type": "code",
   "execution_count": 42,
   "id": "e27cad46-41b8-4df1-ad7f-a5f938da0af3",
   "metadata": {},
   "outputs": [
    {
     "name": "stdout",
     "output_type": "stream",
     "text": [
      "[3 4 5 6]\n"
     ]
    }
   ],
   "source": [
    "#29. Perform basic slicing to extract elements from index 2 to 5 (inclusive) from the given NumPy array.\n",
    "\n",
    "arr = np.array([1, 2, 3, 4, 5, 6, 7, 8, 9])\n",
    "# Slice elements from 2 to index 5(inclusive)\n",
    "arr = np.array([1, 2, 3, 4, 5, 6, 7, 8, 9])\n",
    "print(arr[2:6])\n"
   ]
  },
  {
   "cell_type": "code",
   "execution_count": 52,
   "id": "e3ef1e0e-8387-423b-95d3-6a5e5c301603",
   "metadata": {},
   "outputs": [
    {
     "name": "stdout",
     "output_type": "stream",
     "text": [
      "[[2 3]\n",
      " [5 6]]\n"
     ]
    }
   ],
   "source": [
    "#30. Slice the 2D NumPy array to extract the sub-array `[[2, 3], [5, 6]]` from the given array.\n",
    "\n",
    "arr_2d = np.array([[1, 2, 3],\n",
    "                   [4, 5, 6],\n",
    "                   [7, 8, 9]])\n",
    "sub_array = arr_2d[0:2, 1:3]\n",
    "print(sub_array)"
   ]
  },
  {
   "cell_type": "code",
   "execution_count": 55,
   "id": "db080857-4440-4316-9da0-04775be4896a",
   "metadata": {},
   "outputs": [
    {
     "name": "stdout",
     "output_type": "stream",
     "text": [
      "a:\n",
      "[[1 2 3]\n",
      " [4 5 6]]\n",
      "element in specific odrer:\n",
      "[array([[2],\n",
      "       [5]])]\n"
     ]
    }
   ],
   "source": [
    "#31.Write a NumPy function to extract elements in specific order from a given 2D array based on indices provided in another array.\n",
    "\n",
    "a = np.array([[1,2,3],[4,5,6]])\n",
    "print(\"a:\")\n",
    "print(a)\n",
    "\n",
    "print(\"element in specific odrer:\")\n",
    "print([a[0:2, 1:2]])\n"
   ]
  },
  {
   "cell_type": "code",
   "execution_count": 58,
   "id": "b013956a-e414-46b8-9053-19ccc1159f1b",
   "metadata": {},
   "outputs": [
    {
     "name": "stdout",
     "output_type": "stream",
     "text": [
      "[4 5]\n"
     ]
    }
   ],
   "source": [
    "#32. Create a NumPy function that filters elements greater than a threshold from a given 1D array using boolean indexing.\n",
    "\n",
    "def filter_elements(arr, threshold):\n",
    "    mask = arr > threshold\n",
    "    return arr[mask]\n",
    "\n",
    "arr = np.array([1, 2, 3, 4, 5])\n",
    "threshold = 3\n",
    "result = filter_elements(arr, threshold)\n",
    "print(result)"
   ]
  },
  {
   "cell_type": "code",
   "execution_count": 59,
   "id": "ce608992-648c-49c1-8a79-6164f2f57923",
   "metadata": {},
   "outputs": [
    {
     "name": "stdout",
     "output_type": "stream",
     "text": [
      "Array:\n",
      "[[[3 4 2]\n",
      "  [1 1 1]\n",
      "  [2 4 4]]\n",
      "\n",
      " [[3 1 2]\n",
      "  [2 3 1]\n",
      "  [2 4 4]]\n",
      "\n",
      " [[3 2 2]\n",
      "  [1 3 4]\n",
      "  [4 2 3]]]\n",
      "accessing element :1\n",
      "accessing elements of a row and a column of an array:[1 2 1]\n",
      "accessing sub part of an array :[[3 1 2]\n",
      " [2 3 1]\n",
      " [2 4 4]]\n"
     ]
    }
   ],
   "source": [
    "#33. Develop a NumPy function that extracts specific elements from a 3D array using indices provided in three separate arrays for each dimension.\n",
    "\n",
    "a = np.random.randint(1,5,(3,3,3))\n",
    "print(\"Array:\")\n",
    "print(a)\n",
    "print(\"accessing element :\" +str(a[0, 1, 0]))\n",
    "print(\"accessing elements of a row and a column of an array:\"\n",
    "      +str(a[:, 1, 0]))\n",
    "print(\"accessing sub part of an array :\" +str(a[1]))"
   ]
  },
  {
   "cell_type": "code",
   "execution_count": 60,
   "id": "d3e48e1c-c530-4c5e-9013-19933b27b30f",
   "metadata": {},
   "outputs": [
    {
     "name": "stdout",
     "output_type": "stream",
     "text": [
      "[4 5 6]\n"
     ]
    }
   ],
   "source": [
    "# 34. Write a NumPy function that returns elements from an array where both two conditions are satisfied using boolean indexing.\n",
    "\n",
    "arr = np.array([1, 2, 3, 4, 5, 6, 7, 8])\n",
    "\n",
    "# conditions\n",
    "condition1 = arr > 3  # Elements greater than 3\n",
    "condition2 = arr < 7  # Elements less than 7\n",
    "\n",
    "# Combine conditions using logical AND\n",
    "combined_condition = np.logical_and(condition1, condition2)\n",
    "\n",
    "# Filter elements satisfying both conditions\n",
    "result = arr[combined_condition]\n",
    "\n",
    "print(result)\n",
    "\n"
   ]
  },
  {
   "cell_type": "code",
   "execution_count": 62,
   "id": "63352646-d036-4b32-8fbc-e4aea1ac08fb",
   "metadata": {},
   "outputs": [
    {
     "name": "stdout",
     "output_type": "stream",
     "text": [
      "Array:\n",
      "[[ 1 13  6]\n",
      " [ 9  4  7]\n",
      " [19 16  2]]\n",
      "[ 1 13  6]\n",
      "[6 7 2]\n",
      "[[ 1 13]\n",
      " [ 9  4]\n",
      " [19 16]]\n"
     ]
    }
   ],
   "source": [
    "# 35 Create a NumPy function that extracts elements from a 2D array using row and column indices provided in separate arrays.\n",
    "\n",
    "a = [[1, 13, 6], [9, 4, 7], [19, 16, 2]]\n",
    "arr = np.array(a)\n",
    "print(\"Array:\")\n",
    "print(arr)\n",
    "\n",
    "print(arr[0, :]),\n",
    "\n",
    "print(arr[:, 2]),\n",
    "\n",
    "print(arr[:,[0,1]])"
   ]
  },
  {
   "cell_type": "code",
   "execution_count": 64,
   "id": "8c214601-5408-4b17-b32c-c079ce641fba",
   "metadata": {},
   "outputs": [
    {
     "name": "stdout",
     "output_type": "stream",
     "text": [
      "arr:\n",
      "[[1 5 3]\n",
      " [6 4 3]\n",
      " [7 9 1]]\n",
      "New arr:\n",
      "[[ 6 10  8]\n",
      " [11  9  8]\n",
      " [12 14  6]]\n"
     ]
    }
   ],
   "source": [
    "#36. Given an array arr of shape (3, 3), add a scalar value of 5 to each element using NumPy broadcasting.\n",
    "\n",
    "arr = np.array([[1,5,3],[6,4,3],[7,9,1]])\n",
    "print(\"arr:\")\n",
    "print(arr)\n",
    "\n",
    "# using broadcasting add 5 in arr.\n",
    "print(\"New arr:\")\n",
    "print(arr+5)"
   ]
  },
  {
   "cell_type": "code",
   "execution_count": 72,
   "id": "4c2e3c55-d213-45c0-b5c2-dd7866e8c7c2",
   "metadata": {},
   "outputs": [
    {
     "name": "stdout",
     "output_type": "stream",
     "text": [
      "Array1:\n",
      "[[1 2 3 4]]\n",
      "Array2:\n",
      "[[ 4  5  6  7]\n",
      " [ 8  9 10 11]\n",
      " [12 13 14 15]]\n",
      "New array:\n",
      "[[ 4 10 18 28]\n",
      " [ 8 18 30 44]\n",
      " [12 26 42 60]]\n"
     ]
    }
   ],
   "source": [
    "# 37  Consider two arrays arr1 of shape (1, 4) and arr2 of shape (3, 4). Multiply each row of arr2 by the corresponding element in arr1 using NumPy broadcasting.\n",
    "\n",
    "arr1 = np.array([[1, 2, 3, 4]])  \n",
    "arr2 = np.array([[4, 5, 6, 7], [8, 9, 10, 11], [12, 13, 14, 15]])  \n",
    "\n",
    "print(\"Array1:\")\n",
    "print(arr1)\n",
    "\n",
    "print(\"Array2:\")\n",
    "print(arr2)\n",
    "\n",
    "print(\"New array:\")\n",
    "print( arr1 * arr2)"
   ]
  },
  {
   "cell_type": "code",
   "execution_count": 82,
   "id": "d970ce3b-9cac-4ab9-8866-91299908269e",
   "metadata": {},
   "outputs": [
    {
     "name": "stdout",
     "output_type": "stream",
     "text": [
      "Array1:\n",
      "[[1]\n",
      " [2]\n",
      " [3]\n",
      " [4]]\n",
      "Array2:\n",
      "[[ 4  6  7]\n",
      " [ 8  9 10]\n",
      " [12 13 14]\n",
      " [11 19 33]]\n",
      "New_Array:\n",
      "[[ 5  7  8]\n",
      " [10 11 12]\n",
      " [15 16 17]\n",
      " [15 23 37]]\n"
     ]
    }
   ],
   "source": [
    "#38. Given a 1D array arr1 of shape (1, 4) and a 2D array arr2 of shape (4, 3), add arr1 to each row of arr2 using NumPy broadcasting.\n",
    "\n",
    "arr1 = np.array([[1], [2], [3], [4]])\n",
    "\n",
    "arr2 = np.array([[4, 6, 7], [8, 9, 10], [12, 13, 14],[11,19,33]])  \n",
    " \n",
    "print(\"Array1:\")\n",
    "print(arr1)\n",
    "print(\"Array2:\")\n",
    "print(arr2)\n",
    "print(\"New_Array:\")\n",
    "print(arr1+arr2)"
   ]
  },
  {
   "cell_type": "code",
   "execution_count": 83,
   "id": "d8c4c5d8-d245-4b84-beb5-8019f6067967",
   "metadata": {},
   "outputs": [
    {
     "name": "stdout",
     "output_type": "stream",
     "text": [
      "Array1:\n",
      "[[1]\n",
      " [2]\n",
      " [3]]\n",
      "Array2:\n",
      "[[10 20 30]]\n",
      "New array:\n",
      "[[11 21 31]\n",
      " [12 22 32]\n",
      " [13 23 33]]\n"
     ]
    }
   ],
   "source": [
    "#39. Consider two arrays arr1 of shape (3, 1) and arr2 of shape (1, 3). Add these arrays using NumPy broadcasting.\n",
    "\n",
    "arr1 = np.array([[1], [2], [3]])  \n",
    "arr2 = np.array([[10, 20, 30]])  \n",
    "\n",
    "print(\"Array1:\")\n",
    "print(arr1)\n",
    "print(\"Array2:\")\n",
    "print(arr2)\n",
    "\n",
    "print(\"New array:\")\n",
    "print(arr1+arr2)"
   ]
  },
  {
   "cell_type": "code",
   "execution_count": 4,
   "id": "e4b3ea19-c553-47fd-9eeb-d84f94ffa919",
   "metadata": {},
   "outputs": [
    {
     "name": "stdout",
     "output_type": "stream",
     "text": [
      "Array1:\n",
      "[[1 2 3]\n",
      " [4 5 6]]\n",
      "Array2:\n",
      "[[ 7  8]\n",
      " [ 9 10]]\n"
     ]
    }
   ],
   "source": [
    "#40. Given arrays arr1 of shape (2, 3) and arr2 of shape (2, 2), perform multiplication using NumPy broadcasting. Handle the shape incompatibility.\n",
    "\n",
    "arr1 = np.array([[1, 2, 3], [4, 5, 6]])  \n",
    "arr2 = np.array([[7, 8], [9, 10]])  \n",
    "\n",
    "print(\"Array1:\")\n",
    "print(arr1)\n",
    "print(\"Array2:\")\n",
    "print(arr2)\n",
    "\n",
    "# Perform element-wise multiplication using broadcasting\n",
    "#result = arr1[:, :, np.newaxis] * arr2\n",
    "#print(\"Reshaped_arr2:\\n\",result)\n",
    "\n",
    "\n",
    "# The resulting array will have shape (2, 3, 2)\n",
    "#print(result)"
   ]
  },
  {
   "cell_type": "markdown",
   "id": "9970a431-f8e2-4677-a87b-ccda719a294d",
   "metadata": {},
   "source": [
    "Check Q40 in last."
   ]
  },
  {
   "cell_type": "code",
   "execution_count": 9,
   "id": "8caff31a-2b24-4c2e-8440-8782791705e4",
   "metadata": {},
   "outputs": [
    {
     "name": "stdout",
     "output_type": "stream",
     "text": [
      "Array:\n",
      "[[1 2 3]\n",
      " [4 5 6]]\n",
      "Mean of array\n",
      "3.5\n"
     ]
    }
   ],
   "source": [
    "#41. Calculate column wise mean for the given array:\n",
    "\n",
    "arr = np.array([[1, 2, 3], [4, 5, 6]])\n",
    "print(\"Array:\")\n",
    "print(arr)\n",
    "\n",
    "print(\"Mean of array\")\n",
    "print(np.mean(arr))"
   ]
  },
  {
   "cell_type": "code",
   "execution_count": 11,
   "id": "cb8c7ed1-94b4-4526-a7bd-189bdcc4f381",
   "metadata": {},
   "outputs": [
    {
     "data": {
      "text/plain": [
       "array([[1, 2, 3],\n",
       "       [4, 5, 6]])"
      ]
     },
     "execution_count": 11,
     "metadata": {},
     "output_type": "execute_result"
    }
   ],
   "source": [
    "#42. Find maximum value in each row of the given array:\n",
    "\n",
    "arr = np.array([[1, 2, 3], [4, 5, 6]])\n",
    "arr"
   ]
  },
  {
   "cell_type": "code",
   "execution_count": 13,
   "id": "278eaa50-3555-44f7-8e34-c1dad05dbcee",
   "metadata": {},
   "outputs": [
    {
     "data": {
      "text/plain": [
       "[3, 6]"
      ]
     },
     "execution_count": 13,
     "metadata": {},
     "output_type": "execute_result"
    }
   ],
   "source": [
    "Maximum_value = [max(row) for row in arr]\n",
    "\n",
    "Maximum_value"
   ]
  },
  {
   "cell_type": "code",
   "execution_count": 6,
   "id": "40577975-b825-4196-80dd-f7d863a99bc1",
   "metadata": {},
   "outputs": [
    {
     "name": "stdout",
     "output_type": "stream",
     "text": [
      "arr:\n",
      "[[1 2 3]\n",
      " [4 5 6]]\n",
      "Indices of maximum values in each column:\n",
      "[1 1 1]\n"
     ]
    }
   ],
   "source": [
    "#43. For the given array, find indices of maximum value in each column.\n",
    "\n",
    "arr = np.array([[1, 2, 3], [4, 5, 6]])\n",
    "print(\"arr:\")\n",
    "print(arr)\n",
    "\n",
    "# Get the maximum value indices for each column\n",
    "max_indices = np.argmax(arr, axis=0)\n",
    "\n",
    "print(\"Indices of maximum values in each column:\")\n",
    "print(max_indices)"
   ]
  },
  {
   "cell_type": "code",
   "execution_count": 16,
   "id": "339d2e28-b2ac-4c2a-a6be-4fbe3053fab5",
   "metadata": {},
   "outputs": [
    {
     "name": "stdout",
     "output_type": "stream",
     "text": [
      "Array:\n",
      "[[2 4 6]\n",
      " [3 5 7]]\n",
      "All_even:\n"
     ]
    }
   ],
   "source": [
    "#45. In the given array, check if all elements in each column are even.\n",
    "\n",
    "arr = np.array([[2, 4, 6], [3, 5, 7]])\n",
    "\n",
    "print(\"Array:\")\n",
    "print(arr)\n",
    "\n",
    "print(\"All_even:\")\n",
    "#print(np.even(arr))\n",
    "#check this"
   ]
  },
  {
   "cell_type": "code",
   "execution_count": 17,
   "id": "7fc00565-cf9b-4a8f-899a-d3df20f9627b",
   "metadata": {},
   "outputs": [
    {
     "name": "stdout",
     "output_type": "stream",
     "text": [
      "[[1 2 3]\n",
      " [4 5 6]]\n"
     ]
    }
   ],
   "source": [
    "# 46. Given a NumPy array arr, reshape it into a matrix of dimensions `m` rows and `n` columns. Return the reshaped matrix.\n",
    "\n",
    "original_array = np.array([1, 2, 3, 4, 5, 6])\n",
    "m, n = 2, 3  # Set the desired dimensions (rows and columns)\n",
    "\n",
    "reshaped_matrix = np.reshape(original_array, (m, n))\n",
    "print(reshaped_matrix)"
   ]
  },
  {
   "cell_type": "code",
   "execution_count": 18,
   "id": "fbe6b722-ee3f-4ff2-893e-b0065af5e808",
   "metadata": {},
   "outputs": [
    {
     "name": "stdout",
     "output_type": "stream",
     "text": [
      "[1 2 3 4 5 6]\n"
     ]
    }
   ],
   "source": [
    "#47. Create a function that takes a matrix as input and returns the flattened array.\n",
    "\n",
    "input_matrix = np.array([[1, 2, 3], [4, 5, 6]])\n",
    "def flatten_matrix(matrix):\n",
    "    return matrix.flatten()\n",
    "\n",
    "input_matrix = np.array([[1, 2, 3], [4, 5, 6]])\n",
    "flattened_array = flatten_matrix(input_matrix)\n",
    "print(flattened_array)"
   ]
  },
  {
   "cell_type": "code",
   "execution_count": 6,
   "id": "739cd18d-b824-4d7f-806b-0c0228df795b",
   "metadata": {},
   "outputs": [
    {
     "name": "stdout",
     "output_type": "stream",
     "text": [
      "Array1:\n",
      "[[1 2]\n",
      " [3 4]]\n",
      "Array2:\n",
      "[[5 6]\n",
      " [7 8]]\n",
      "concatenate array1&array2:\n",
      "[[1 2 5 6]\n",
      " [3 4 7 8]]\n"
     ]
    }
   ],
   "source": [
    "#48. Write a function that concatenates two given arrays along a specified axis.\n",
    "\n",
    "array1 = np.array([[1, 2], [3, 4]])\n",
    "array2 = np.array([[5, 6], [7, 8]])\n",
    "print(\"Array1:\")\n",
    "print(array1)\n",
    "print(\"Array2:\")\n",
    "print(array2)\n",
    "print(\"concatenate array1&array2:\")\n",
    "print(np.concatenate((array1, array2), axis = 1) \n",
    ")"
   ]
  },
  {
   "cell_type": "code",
   "execution_count": 9,
   "id": "729242c3-d929-4e38-a8d2-686b3e604adf",
   "metadata": {},
   "outputs": [
    {
     "name": "stdout",
     "output_type": "stream",
     "text": [
      "original_array:\n",
      "[[1 2 3]\n",
      " [4 5 6]\n",
      " [7 8 9]]\n",
      "sub-array:\n",
      "[array([[1, 2, 3]]), array([[4, 5, 6]]), array([[7, 8, 9]])]\n"
     ]
    }
   ],
   "source": [
    "#49. Create a function that splits an array into multiple sub-arrays along a specified axis.\n",
    "\n",
    "original_array = np.array([[1, 2, 3], [4, 5, 6], [7, 8, 9]])\n",
    "print(\"original_array:\")\n",
    "print(original_array)\n",
    "\n",
    "print(\"sub-array:\")\n",
    "print(np.array_split(original_array, 3, axis=0))"
   ]
  },
  {
   "cell_type": "code",
   "execution_count": 29,
   "id": "6db065bd-e138-4c25-9933-0b7d6364cd54",
   "metadata": {},
   "outputs": [
    {
     "name": "stdout",
     "output_type": "stream",
     "text": [
      "Resulting array: [ 1 10 11  4  5]\n"
     ]
    }
   ],
   "source": [
    "#50. Write a function that inserts and then deletes elements from a given array at specified indices.\n",
    "\n",
    "original_array = np.array([1, 2, 3, 4, 5])\n",
    "indices_to_insert = [2, 4]\n",
    "values_to_insert = [10, 11]\n",
    "indices_to_delete = [1, 3]\n",
    "\n",
    "def insert_and_delete_elements(original_array, indices_to_insert, values_to_insert, indices_to_delete):\n",
    "    # Insert values at specified indices\n",
    "    for idx, value in zip(indices_to_insert, values_to_insert):\n",
    "        original_array = np.insert(original_array, idx, value)\n",
    "\n",
    "    # Delete elements at specified indices\n",
    "    original_array = np.delete(original_array, indices_to_delete)\n",
    "\n",
    "    return original_array\n",
    "\n",
    "\n",
    "original_array = np.array([1, 2, 3, 4, 5])\n",
    "indices_to_insert = [2, 4]\n",
    "values_to_insert = [10, 11]\n",
    "indices_to_delete = [1, 3]\n",
    "\n",
    "result_array = insert_and_delete_elements(original_array, indices_to_insert, values_to_insert, indices_to_delete)\n",
    "print(\"Resulting array:\", result_array)\n"
   ]
  },
  {
   "cell_type": "code",
   "execution_count": 31,
   "id": "e81fb825-e7ac-4f5b-9efc-8822278f3697",
   "metadata": {},
   "outputs": [
    {
     "name": "stdout",
     "output_type": "stream",
     "text": [
      "Array1:\n",
      "[[2 3 2 3]\n",
      " [3 2 3 1]\n",
      " [2 3 4 1]]\n",
      "Array2:\n",
      "[[7 7 3 7]\n",
      " [7 4 4 4]\n",
      " [5 2 7 8]]\n",
      "Element wise_addition:\n",
      "[[ 9 10  5 10]\n",
      " [10  6  7  5]\n",
      " [ 7  5 11  9]]\n"
     ]
    }
   ],
   "source": [
    "#51. Create a NumPy array `arr1` with random integers and another array `arr2` with integers from 1 to 10. Perform element-wise addition between `arr1` and `arr2`.\n",
    "\n",
    "arr1 = np.random.randint(1,5,(3,4))\n",
    "arr2 = np.random.randint(1,10,(3,4))\n",
    "print(\"Array1:\")\n",
    "print(arr1)\n",
    "print(\"Array2:\")\n",
    "print(arr2)\n",
    "print(\"Element wise_addition:\")\n",
    "print(np.add(arr1,arr2))"
   ]
  },
  {
   "cell_type": "code",
   "execution_count": 32,
   "id": "0762c4e6-62af-48c9-8285-79e425862eb4",
   "metadata": {},
   "outputs": [
    {
     "name": "stdout",
     "output_type": "stream",
     "text": [
      "arr1: [10  9  8  7  6  5  4  3  2  1]\n",
      "arr2: [ 1  2  3  4  5  6  7  8  9 10]\n",
      "Result (arr1 - arr2): [ 9  7  5  3  1 -1 -3 -5 -7 -9]\n"
     ]
    }
   ],
   "source": [
    "#52. Generate a NumPy array `arr1` with sequential integers from 10 to 1 and another array `arr2` with integers\n",
    "#from 1 to 10. Subtract `arr2` from `arr1` element-wise.\n",
    "\n",
    "# Create arr1 with sequential integers from 10 to 1\n",
    "arr1 = np.arange(10, 0, -1)\n",
    "\n",
    "# Create arr2 with integers from 1 to 10\n",
    "arr2 = np.arange(1, 11)\n",
    "\n",
    "# Subtract arr2 from arr1 element-wise\n",
    "result = arr1 - arr2\n",
    "\n",
    "print(\"arr1:\", arr1)\n",
    "print(\"arr2:\", arr2)\n",
    "print(\"Result (arr1 - arr2):\", result)\n"
   ]
  },
  {
   "cell_type": "code",
   "execution_count": 33,
   "id": "4b33038f-cd21-428d-8035-f99fddb082eb",
   "metadata": {},
   "outputs": [
    {
     "name": "stdout",
     "output_type": "stream",
     "text": [
      "arr1: [3 5 4 9 6]\n",
      "arr2: [1 2 3 4 5]\n",
      "Result (arr1 * arr2): [ 3 10 12 36 30]\n"
     ]
    }
   ],
   "source": [
    "#53. Create a NumPy array `arr1` with random integers and another array `arr2` with integers from 1 to 5.\n",
    "#Perform element-wise multiplication between `arr1` and `arr2`.\n",
    "\n",
    "# Create arr1 with 5 random integers between 0 and 9\n",
    "arr1 = np.random.randint(0, 10, 5)\n",
    "\n",
    "# Create arr2 with integers from 1 to 5\n",
    "arr2 = np.arange(1, 6)\n",
    "\n",
    "# Perform element-wise multiplication\n",
    "result = arr1 * arr2\n",
    "\n",
    "print(\"arr1:\", arr1)\n",
    "print(\"arr2:\", arr2)\n",
    "print(\"Result (arr1 * arr2):\", result)\n"
   ]
  },
  {
   "cell_type": "code",
   "execution_count": 34,
   "id": "282586a6-1ad8-43cc-b38b-0f9f4c12609f",
   "metadata": {},
   "outputs": [
    {
     "name": "stdout",
     "output_type": "stream",
     "text": [
      "arr1: [ 2  4  6  8 10]\n",
      "arr2: [1 2 3 4 5]\n",
      "Result (arr1 / arr2): [2. 2. 2. 2. 2.]\n"
     ]
    }
   ],
   "source": [
    "#54. Generate a NumPy array `arr1` with even integers from 2 to 10 and another array `arr2` with integers from 1\n",
    "#    to 5. Perform element-wise division of `arr1` by `arr2`.\n",
    "\n",
    "# Create arr1 with even integers from 2 to 10\n",
    "arr1 = np.arange(2, 11, 2)\n",
    "\n",
    "# Create arr2 with integers from 1 to 5\n",
    "arr2 = np.arange(1, 6)\n",
    "\n",
    "# Perform element-wise division\n",
    "result = arr1 / arr2\n",
    "\n",
    "print(\"arr1:\", arr1)\n",
    "print(\"arr2:\", arr2)\n",
    "print(\"Result (arr1 / arr2):\", result)\n"
   ]
  },
  {
   "cell_type": "code",
   "execution_count": 35,
   "id": "f08f75da-360e-471a-b628-375ce2936edc",
   "metadata": {},
   "outputs": [
    {
     "name": "stdout",
     "output_type": "stream",
     "text": [
      "arr1: [1 2 3 4 5]\n",
      "arr2: [5 4 3 2 1]\n",
      "Result (arr1 ** arr2): [ 1 16 27 16  5]\n"
     ]
    }
   ],
   "source": [
    "#55. Create a NumPy array `arr1` with integers from 1 to 5 and another array `arr2` with the same numbers\n",
    "#     reversed. Calculate the exponentiation of `arr1` raised to the power of `arr2` element-wise.\n",
    "\n",
    "# Create arr1 with integers from 1 to 5\n",
    "arr1 = np.arange(1, 6)\n",
    "\n",
    "# Create arr2 with the same numbers reversed\n",
    "arr2 = arr1[::-1]\n",
    "\n",
    "# Calculate element-wise exponentiation\n",
    "result = arr1 ** arr2\n",
    "\n",
    "print(\"arr1:\", arr1)\n",
    "print(\"arr2:\", arr2)\n",
    "print(\"Result (arr1 ** arr2):\", result)\n"
   ]
  },
  {
   "cell_type": "code",
   "execution_count": 36,
   "id": "b0b5187e-83fd-46e6-a447-65462790d9f7",
   "metadata": {},
   "outputs": [
    {
     "name": "stdout",
     "output_type": "stream",
     "text": [
      "Occurrences of 'hello': [1 0 1 0 1]\n"
     ]
    }
   ],
   "source": [
    "#56. Write a function that counts the occurrences of a specific substring within a NumPy array of strings.\n",
    "#    arr = np.array(['hello', 'world', 'hello', 'numpy', 'hello'])\n",
    "\n",
    "# Create the array of strings\n",
    "arr = np.array(['hello', 'world', 'hello', 'numpy', 'hello'])\n",
    "\n",
    "# Count occurrences of the substring 'hello'\n",
    "substring = 'hello'\n",
    "occurrences = np.char.count(arr, substring)\n",
    "\n",
    "print(\"Occurrences of '{}':\".format(substring), occurrences)\n"
   ]
  },
  {
   "cell_type": "code",
   "execution_count": 37,
   "id": "8e248b30-6910-4831-991e-001943e53140",
   "metadata": {},
   "outputs": [
    {
     "name": "stdout",
     "output_type": "stream",
     "text": [
      "Original array: ['Hello' 'World' 'OpenAI' 'GPT']\n",
      "Uppercase array: ['HELLO' 'WORLD' 'OPENAI' 'GPT']\n"
     ]
    }
   ],
   "source": [
    "#57. Write a function that extracts uppercase characters from a NumPy array of strings.\n",
    "\n",
    "#   arr = np.array(['Hello', 'World', 'OpenAI', 'GPT'])\n",
    "\n",
    "arr = np.array(['Hello', 'World', 'OpenAI', 'GPT'])\n",
    "\n",
    "# Convert strings to uppercase\n",
    "uppercase_arr = np.char.upper(arr)\n",
    "\n",
    "print(\"Original array:\", arr)\n",
    "print(\"Uppercase array:\", uppercase_arr)\n"
   ]
  },
  {
   "cell_type": "code",
   "execution_count": 46,
   "id": "09baef20-fc1c-48e4-8988-e27371fcf172",
   "metadata": {},
   "outputs": [
    {
     "name": "stdout",
     "output_type": "stream",
     "text": [
      "Original array: ['apple' 'banana' 'grape' 'pineapple']\n",
      "Modified array: ['fruit' 'banana' 'grape' 'pinefruit']\n"
     ]
    }
   ],
   "source": [
    "#58. Write a function that replaces occurrences of a substring in a NumPy array of strings with a new string.\n",
    "#   arr = np.array(['apple', 'banana', 'grape', 'pineapple'])\n",
    "\n",
    "import numpy as np\n",
    "\n",
    "# Create the array of strings\n",
    "arr = np.array(['apple', 'banana', 'grape', 'pineapple'])\n",
    "\n",
    "# Replace occurrences of 'apple' with 'fruit'\n",
    "new_arr = np.char.replace(arr, 'apple', 'fruit')\n",
    "\n",
    "print(\"Original array:\", arr)\n",
    "print(\"Modified array:\", new_arr)\n",
    "\n"
   ]
  },
  {
   "cell_type": "code",
   "execution_count": 47,
   "id": "6092e5f1-a9da-47c1-bf2f-261308387b23",
   "metadata": {},
   "outputs": [
    {
     "name": "stdout",
     "output_type": "stream",
     "text": [
      "arr1: ['Hello' 'World']\n",
      "arr2: ['Open' 'AI']\n",
      "Concatenated array: ['HelloOpen' 'WorldAI']\n"
     ]
    }
   ],
   "source": [
    "#59. Write a function that concatenates strings in a NumPy array element-wise.\n",
    "\n",
    "arr1 = np.array(['Hello', 'World'])\n",
    "arr2 = np.array(['Open', 'AI'])\n",
    "arr1 = np.array(['Hello', 'World'])\n",
    "arr2 = np.array(['Open', 'AI'])\n",
    "\n",
    "# Concatenate element-wise\n",
    "concatenated_arr = np.core.defchararray.add(arr1, arr2)\n",
    "\n",
    "print(\"arr1:\", arr1)\n",
    "print(\"arr2:\", arr2)\n",
    "print(\"Concatenated array:\", concatenated_arr)"
   ]
  },
  {
   "cell_type": "code",
   "execution_count": 49,
   "id": "a95ef046-62b6-4f2e-8483-788fc869adfc",
   "metadata": {},
   "outputs": [
    {
     "name": "stdout",
     "output_type": "stream",
     "text": [
      "Length of the longest string: 9\n"
     ]
    }
   ],
   "source": [
    "# 60. Write a function that finds the length of the longest string in a NumPy array.\n",
    "\n",
    "arr = np.array(['apple', 'banana', 'grape', 'pineapple'])\n",
    "\n",
    "# Find the length of the longest string\n",
    "longest_length = len(max(arr, key=len))\n",
    "\n",
    "print(\"Length of the longest string:\", longest_length)"
   ]
  },
  {
   "cell_type": "code",
   "execution_count": 51,
   "id": "393a71f4-718d-4fb5-b3d1-4b6257e8822c",
   "metadata": {},
   "outputs": [
    {
     "name": "stdout",
     "output_type": "stream",
     "text": [
      "Random integers: [ 29 417 779 388 642 908 669 231 260 204 947 529 221 995 936 810 909 234\n",
      " 447 992 713 242 703 635 358 122 551  25 249 388  49 209  46 654  13  37\n",
      " 368 281 161 321 581 968 799 894 974 842 277 661 624 113  41 563 578 798\n",
      " 459 899 428 337 626 713 220  24 770 246 692 613 485 329 508 908 149  52\n",
      " 866 977  77 457 189 694 227 995 428 275 682 600 555 518 207 374 744  34\n",
      " 198 666  30 136 337  91 911 651 162 315]\n",
      "Mean: 472.39\n",
      "Median: 452.0\n",
      "Variance: 88993.2579\n",
      "Standard Deviation: 298.3173778042439\n"
     ]
    }
   ],
   "source": [
    "#61. Create a dataset of 100 random integers between 1 and 1000. Compute the mean, median, variance, and\n",
    "#  standard deviation of the dataset using NumPy's functions.\n",
    "\n",
    "random_integers = np.random.randint(1, 1001, 100)\n",
    "\n",
    "\n",
    "# Compute the mean, median, variance, and standard deviation\n",
    "mean_value = np.mean(random_integers)\n",
    "median_value = np.median(random_integers)\n",
    "variance_value = np.var(random_integers)\n",
    "std_deviation = np.std(random_integers)\n",
    "\n",
    "print(\"Random integers:\", random_integers)\n",
    "print(\"Mean:\", mean_value)\n",
    "print(\"Median:\", median_value)\n",
    "print(\"Variance:\", variance_value)\n",
    "print(\"Standard Deviation:\", std_deviation)\n"
   ]
  },
  {
   "cell_type": "code",
   "execution_count": 61,
   "id": "4b29ce02-7d89-445e-9ab3-1ecf3de3d4c3",
   "metadata": {},
   "outputs": [
    {
     "name": "stdout",
     "output_type": "stream",
     "text": [
      "Random_numbers:\n",
      "[ 2 45 49 49 47 81 41 50 36 24 40 94 27 66  9 77 77 87  3 92 44 43 60  2\n",
      " 57 86 34 19 15 47 96 51  5 52 45 91 70 67 49 44 56 95 34 47 37 92 60  1\n",
      " 54 75]\n",
      "25th percentile of arr :  36.25\n",
      "75th percentile of arr :  69.25\n"
     ]
    }
   ],
   "source": [
    "#62. Generate an array of 50 random numbers between 1 and 100. Find the 25th and 75th percentiles of the dataset\n",
    "\n",
    "arr= np.random.randint(1, 101, 50)\n",
    "print(\"Random_numbers:\")\n",
    "print(arr)\n",
    "\n",
    "print(\"25th percentile of arr : \",\n",
    "      np.percentile(arr, 25))\n",
    "\n",
    "print(\"75th percentile of arr : \",\n",
    "      np.percentile(arr, 75))"
   ]
  },
  {
   "cell_type": "code",
   "execution_count": 69,
   "id": "fb7426b2-764d-4314-b34d-aa4bfbbf2519",
   "metadata": {},
   "outputs": [
    {
     "name": "stdout",
     "output_type": "stream",
     "text": [
      "Array1:\n",
      "Array2:\n",
      "[[0.20550276 0.05366035 0.75123424]\n",
      " [0.99118204 0.66140413 0.49140146]\n",
      " [0.11991553 0.84861301 0.91796396]]\n",
      "[[0.91063121 0.3439409  0.96787887]\n",
      " [0.68062928 0.5967382  0.22165726]\n",
      " [0.54108582 0.67745145 0.65456288]]\n",
      "correlation_matrix:\n",
      "[[ 1.         -0.61012567  0.38356625  0.72782591 -0.9283149   0.15712148]\n",
      " [-0.61012567  1.         -0.96572755  0.09926711  0.86096357 -0.87832751]\n",
      " [ 0.38356625 -0.96572755  1.         -0.35414087 -0.69942781  0.97230916]\n",
      " [ 0.72782591  0.09926711 -0.35414087  1.         -0.42068885 -0.56288721]\n",
      " [-0.9283149   0.86096357 -0.69942781 -0.42068885  1.         -0.51303514]\n",
      " [ 0.15712148 -0.87832751  0.97230916 -0.56288721 -0.51303514  1.        ]]\n"
     ]
    }
   ],
   "source": [
    "#63. Create two arrays representing two sets of variables. Compute the correlation coefficient between these arrays using NumPy's `corrcoef` function.\n",
    "\n",
    "arr1 = np.random.rand(3, 3)\n",
    "arr2 = np.random.rand(3, 3)\n",
    "print(\"Array1:\")\n",
    "print(\"Array2:\")\n",
    "print(arr1),\n",
    "print(arr2)\n",
    "# Compute the correlation coefficient matrix\n",
    "print(\"correlation_matrix:\")\n",
    "print(np.corrcoef(arr1, arr2))"
   ]
  },
  {
   "cell_type": "code",
   "execution_count": 70,
   "id": "753a460f-5bca-40e4-9b53-00cfb4e0e887",
   "metadata": {},
   "outputs": [
    {
     "name": "stdout",
     "output_type": "stream",
     "text": [
      "[[1.12729174 1.44804032 0.93398195 0.98342425 0.96725535]\n",
      " [0.24393412 0.4044954  0.34959909 0.16745004 0.31684055]\n",
      " [1.09753493 0.70686502 0.9962109  0.77956123 0.32592908]]\n"
     ]
    }
   ],
   "source": [
    "# 64. Create two matrices and perform matrix multiplication using NumPy's `dot` function.\n",
    "\n",
    "matrix1 = np.random.rand(3, 4)\n",
    "matrix2 = np.random.rand(4, 5)\n",
    "\n",
    "# Compute the matrix product\n",
    "result_matrix = np.dot(matrix1, matrix2)\n",
    "\n",
    "print(result_matrix)\n"
   ]
  },
  {
   "cell_type": "code",
   "execution_count": 71,
   "id": "1025919f-8639-46d3-a61d-3377d234fce3",
   "metadata": {},
   "outputs": [
    {
     "name": "stdout",
     "output_type": "stream",
     "text": [
      "10th percentile: 108.9\n",
      "Median (50th percentile): 504.5\n",
      "90th percentile: 900.1\n",
      "First quartile: 257.0\n",
      "Third quartile: 752.0\n"
     ]
    }
   ],
   "source": [
    "# 65. Create an array of 50 integers between 10 and 1000. Calculate the 10th, 50th (median), and 90th\n",
    "# percentiles along with the first and third quartiles.\n",
    "\n",
    "my_array = np.linspace(10, 1000, num=50, dtype=int)\n",
    "\n",
    "# Calculate percentiles and quartiles\n",
    "tenth_percentile = np.percentile(my_array, 10)\n",
    "median = np.percentile(my_array, 50)\n",
    "ninetieth_percentile = np.percentile(my_array, 90)\n",
    "first_quartile = np.percentile(my_array, 25)\n",
    "third_quartile = np.percentile(my_array, 75)\n",
    "\n",
    "print(f\"10th percentile: {tenth_percentile}\")\n",
    "print(f\"Median (50th percentile): {median}\")\n",
    "print(f\"90th percentile: {ninetieth_percentile}\")\n",
    "print(f\"First quartile: {first_quartile}\")\n",
    "print(f\"Third quartile: {third_quartile}\")\n"
   ]
  },
  {
   "cell_type": "code",
   "execution_count": 76,
   "id": "9e810c51-9dbb-48d0-bc76-77ba2430488c",
   "metadata": {},
   "outputs": [
    {
     "name": "stdout",
     "output_type": "stream",
     "text": [
      "[ 1  2  3  4  5  6  7  8  9 10 11 12 13 14 15 16 17 18 19 20 21 22 23 24\n",
      " 25 26 27 28 29 30 31 32 33 34 35 36 37 38 39 40 41 42 43 44 45 46 47 48\n",
      " 49 50]\n",
      "Index of 25: [24]\n"
     ]
    }
   ],
   "source": [
    "#66. Create a NumPy array of integers and find the index of a specific element.\n",
    "\n",
    "# Create an array of integers from 1 to 50\n",
    "my_array = np.arange(1, 51)\n",
    "\n",
    "# Print the array\n",
    "print(my_array)\n",
    "# Let's say we want to find the index of the value 25\n",
    "target_value = 25\n",
    "index = np.where(my_array == target_value)[0]\n",
    "\n",
    "# Print the index\n",
    "print(f\"Index of {target_value}: {index}\")\n"
   ]
  },
  {
   "cell_type": "code",
   "execution_count": 81,
   "id": "3d96950b-c52a-4d33-af39-ff4ab1fd7bf4",
   "metadata": {},
   "outputs": [
    {
     "name": "stdout",
     "output_type": "stream",
     "text": [
      "[ 16  58  72  99 100 143 146 171 180 191 209 261 269 270 275 288 304 324\n",
      " 334 381 384 426 465 501 510 564 577 582 613 619 651 690 721 725 791 798\n",
      " 812 821 838 846 848 872 881 901 917 936 938 951 972 979]\n"
     ]
    }
   ],
   "source": [
    "#67. Generate a random NumPy array and sort it in ascending order.\n",
    "\n",
    "my_array = np.random.randint(10, 1001, size=50)\n",
    "\n",
    "# Sort the array in ascending order\n",
    "sorted_array = np.sort(my_array)\n",
    "\n",
    "# Print the sorted array\n",
    "print(sorted_array)\n"
   ]
  },
  {
   "cell_type": "code",
   "execution_count": 82,
   "id": "a10e3036-1d0f-4974-ba71-1d1cea442641",
   "metadata": {},
   "outputs": [
    {
     "name": "stdout",
     "output_type": "stream",
     "text": [
      "Original Array: [12 25  6 42  8 30]\n",
      "Filtered Array: [25 42 30]\n"
     ]
    }
   ],
   "source": [
    "#68. Filter elements >20  in the given NumPy array.\n",
    "\n",
    "arr = np.array([12, 25, 6, 42, 8, 30])\n",
    "condition = arr > 20\n",
    "# Apply the mask to filter the array\n",
    "filtered_arr = arr[condition]\n",
    "\n",
    "print(\"Original Array:\", arr) \n",
    "\n",
    "print(\"Filtered Array:\", filtered_arr)"
   ]
  },
  {
   "cell_type": "code",
   "execution_count": 83,
   "id": "064e46a2-df19-4cd6-94d6-1a699c4ac179",
   "metadata": {},
   "outputs": [
    {
     "name": "stdout",
     "output_type": "stream",
     "text": [
      "Filtered array (divisible by 3): [12 15]\n"
     ]
    }
   ],
   "source": [
    "# 69. Filter elements which are divisible by 3 from a given NumPy array.\n",
    "\n",
    "arr = np.array([1, 5, 8, 12, 15])\n",
    "\n",
    "# Create a boolean mask for elements divisible by 3\n",
    "mask = arr % 3 == 0\n",
    "\n",
    "# Filter the array using the mask\n",
    "filtered_arr = arr[mask]\n",
    "\n",
    "print(\"Filtered array (divisible by 3):\", filtered_arr)"
   ]
  },
  {
   "cell_type": "code",
   "execution_count": 85,
   "id": "52763b7e-8786-49c5-a2a8-01663a7dbd3d",
   "metadata": {},
   "outputs": [
    {
     "name": "stdout",
     "output_type": "stream",
     "text": [
      "[False  True  True  True  True]\n",
      "[ True  True  True  True False]\n",
      "[20 30 40 50]\n",
      "[10 20 30 40]\n"
     ]
    }
   ],
   "source": [
    "#70. Filter elements which are ≥ 20 and ≤ 40 from a given NumPy array\n",
    "\n",
    "arr = np.array([10, 20, 30, 40, 50])\n",
    "\n",
    "filter_arr = arr >= 20\n",
    "filter_arr1= arr <= 40\n",
    "\n",
    "newarr = arr[filter_arr]\n",
    "newarr1= arr[filter_arr1]\n",
    "print(filter_arr)\n",
    "print(filter_arr1)\n",
    "print(newarr)\n",
    "print(newarr1)"
   ]
  },
  {
   "cell_type": "code",
   "execution_count": 88,
   "id": "35d323aa-7b3d-44e3-ba31-035005133583",
   "metadata": {},
   "outputs": [
    {
     "name": "stdout",
     "output_type": "stream",
     "text": [
      "Byte order of the array: =\n",
      "Datatype: int64\n"
     ]
    }
   ],
   "source": [
    "#71. For the given NumPy array, check its byte order using the `dtype` attribute byteorder\n",
    "\n",
    "arr = np.array([1, 2, 3])\n",
    "# Get the byte order of the dtype\n",
    "byte_order = arr.dtype.byteorder\n",
    "\n",
    "print(f\"Byte order of the array: {byte_order}\")\n",
    "print('Datatype:', arr.dtype)"
   ]
  },
  {
   "cell_type": "code",
   "execution_count": 89,
   "id": "72f18c1b-deae-4c89-8f64-597d37e4a071",
   "metadata": {},
   "outputs": [
    {
     "name": "stdout",
     "output_type": "stream",
     "text": [
      "Array after byte swapping: [16777216 33554432 50331648]\n"
     ]
    }
   ],
   "source": [
    "#72. For the given NumPy array, perform byte swapping in place using `byteswap()`.\n",
    "\n",
    "\n",
    "arr = np.array([1, 2, 3], dtype=np.int32)\n",
    "\n",
    "# Perform byte swapping in place\n",
    "arr.byteswap(True)  # Set to True for in-place swapping\n",
    "\n",
    "print(\"Array after byte swapping:\", arr)\n"
   ]
  },
  {
   "cell_type": "code",
   "execution_count": 90,
   "id": "2647f7d9-3f99-485c-8f42-2cf5dcf8587f",
   "metadata": {},
   "outputs": [
    {
     "name": "stdout",
     "output_type": "stream",
     "text": [
      "Original array: [1 2 3]\n",
      "Swapped array: [16777216 33554432 50331648]\n"
     ]
    }
   ],
   "source": [
    "#73. For the given NumPy array, swap its byte order without modifying the original array using `newbyteorder()`.\n",
    "\n",
    "arr = np.array([1, 2, 3], dtype=np.int32)\n",
    "\n",
    "# Create a new array with swapped byte order\n",
    "swapped_arr = arr.newbyteorder()\n",
    "\n",
    "print(\"Original array:\", arr)\n",
    "print(\"Swapped array:\", swapped_arr)\n"
   ]
  },
  {
   "cell_type": "code",
   "execution_count": 91,
   "id": "2e7bf175-d1af-46ef-89a0-3e68c69b2faa",
   "metadata": {},
   "outputs": [],
   "source": [
    "#74"
   ]
  },
  {
   "cell_type": "code",
   "execution_count": null,
   "id": "dd8aaebc-893a-4d72-abde-aff9a9776849",
   "metadata": {},
   "outputs": [],
   "source": []
  },
  {
   "cell_type": "code",
   "execution_count": null,
   "id": "3bb2371a-4c98-464c-86f7-123bc736ef43",
   "metadata": {},
   "outputs": [],
   "source": []
  },
  {
   "cell_type": "code",
   "execution_count": 92,
   "id": "be637e11-cfbd-4536-9166-a3a13da7e948",
   "metadata": {},
   "outputs": [
    {
     "name": "stdout",
     "output_type": "stream",
     "text": [
      "Byte order of the array: =\n"
     ]
    }
   ],
   "source": [
    "#75. For the given NumPy array, check if byte swapping is necessary for the current system using `dtype` attribute `byteorder`.\n",
    "\n",
    "arr = np.array([1, 2, 3], dtype=np.int32)\n",
    "\n",
    "# Get the byte order of the dtype\n",
    "byte_order = arr.dtype.byteorder\n",
    "\n",
    "print(f\"Byte order of the array: {byte_order}\")\n"
   ]
  },
  {
   "cell_type": "code",
   "execution_count": 93,
   "id": "6d7790da-c2ef-452e-98af-43d185ed9d12",
   "metadata": {},
   "outputs": [
    {
     "name": "stdout",
     "output_type": "stream",
     "text": [
      "Original arr1: [ 1  2  3  4  5  6  7  8  9 10]\n",
      "Modified copy_arr: [ 1  2  3  4  5 99  7  8  9 10]\n"
     ]
    }
   ],
   "source": [
    "#76. Create a NumPy array `arr1` with values from 1 to 10. Create a copy of `arr1` named `copy_arr` and modify\n",
    "#an element in `copy_arr`. Check if modifying `copy_arr` affects `arr1`.\n",
    "\n",
    "arr1 = np.arange(1, 11) \n",
    "copy_arr = np.copy(arr1)\n",
    "copy_arr[5] = 99 \n",
    "print(\"Original arr1:\", arr1)\n",
    "print(\"Modified copy_arr:\", copy_arr)"
   ]
  },
  {
   "cell_type": "code",
   "execution_count": 94,
   "id": "267c6091-74ba-43e5-b0f9-42301f51d2f3",
   "metadata": {},
   "outputs": [
    {
     "name": "stdout",
     "output_type": "stream",
     "text": [
      "Original matrix:\n",
      "[[ 7 60 13]\n",
      " [60 50 97]\n",
      " [79 40 18]]\n",
      "View slice (2x2 submatrix):\n",
      "[[ 7 60]\n",
      " [60 50]]\n",
      "Modified view slice:\n",
      "[[  7  60]\n",
      " [ 60 999]]\n",
      "Updated matrix after modifying view slice:\n",
      "[[  7  60  13]\n",
      " [ 60 999  97]\n",
      " [ 79  40  18]]\n"
     ]
    }
   ],
   "source": [
    "#77. Create a 2D NumPy array `matrix` of shape (3, 3) with random integers. Extract a slice `view_slice` from\n",
    "#the matrix. Modify an element in `view_slice` and observe if it changes the original `matrix`.\n",
    "\n",
    "# Create a 2D array (matrix) of shape (3, 3) with random integers\n",
    "matrix = np.random.randint(1, 101, size=(3, 3))\n",
    "\n",
    "print(\"Original matrix:\")\n",
    "print(matrix)\n",
    "\n",
    "view_slice = matrix[:2, :2]\n",
    "\n",
    "print(\"View slice (2x2 submatrix):\")\n",
    "print(view_slice)\n",
    "\n",
    "view_slice[1, 1] = 999\n",
    "\n",
    "print(\"Modified view slice:\")\n",
    "print(view_slice)\n",
    "\n",
    "print(\"Updated matrix after modifying view slice:\")\n",
    "print(matrix)\n"
   ]
  },
  {
   "cell_type": "code",
   "execution_count": 95,
   "id": "450c63cc-2507-4ffb-bcf0-fb70d6a12123",
   "metadata": {},
   "outputs": [
    {
     "name": "stdout",
     "output_type": "stream",
     "text": [
      "Original array_a:\n",
      "[[ 1  2  3]\n",
      " [ 4  5  6]\n",
      " [ 7  8  9]\n",
      " [10 11 12]]\n",
      "View slice (2x2 submatrix):\n",
      "[[1 2]\n",
      " [4 5]]\n",
      "Modified view_b after broadcasting:\n",
      "[[ 6  7]\n",
      " [ 9 10]]\n",
      "Updated array_a after modifying view_b:\n",
      "[[ 6  7  3]\n",
      " [ 9 10  6]\n",
      " [ 7  8  9]\n",
      " [10 11 12]]\n"
     ]
    }
   ],
   "source": [
    "#78. Create a NumPy array `array_a` of shape (4, 3) with sequential integers from 1 to 12. Extract a slice\n",
    "#`view_b` from `array_a` and broadcast the addition of 5 to view_b. Check if it alters the original `array_a`.\n",
    "\n",
    "# Create a 1D array with integers from 1 to 12\n",
    "array_a = np.arange(1, 13)\n",
    "\n",
    "# Reshape it into a 2D array of shape (4, 3)\n",
    "array_a = array_a.reshape(4, 3)\n",
    "\n",
    "print(\"Original array_a:\")\n",
    "print(array_a)\n",
    "\n",
    "view_b = array_a[:2, :2]\n",
    "\n",
    "print(\"View slice (2x2 submatrix):\")\n",
    "print(view_b)\n",
    "\n",
    "view_b += 5\n",
    "\n",
    "print(\"Modified view_b after broadcasting:\")\n",
    "print(view_b)\n",
    "print(\"Updated array_a after modifying view_b:\")\n",
    "print(array_a)\n"
   ]
  },
  {
   "cell_type": "code",
   "execution_count": 4,
   "id": "4e71b883-d5f7-4a3b-912a-07aa0173a705",
   "metadata": {},
   "outputs": [
    {
     "name": "stdout",
     "output_type": "stream",
     "text": [
      "orig_array:\n",
      " [[1 2 3 4]\n",
      " [5 6 7 8]]\n",
      "reshaped_view:\n",
      " [[1 2]\n",
      " [3 4]\n",
      " [5 6]\n",
      " [7 8]]\n",
      "Modified reshaped_view:\n",
      " [[ 1  2]\n",
      " [99  4]\n",
      " [ 5  6]\n",
      " [ 7  8]]\n",
      "Modified orig_array:\n",
      " [[ 1  2 99  4]\n",
      " [ 5  6  7  8]]\n"
     ]
    }
   ],
   "source": [
    "#79. Create a NumPy array `orig_array` of shape (2, 4) with values from 1 to 8. Create a reshaped view\n",
    "#`reshaped_view` of shape (4, 2) from orig_array. Modify an element in `reshaped_view` and check if it\n",
    "#reflects changes in the original `orig_array`.\n",
    "\n",
    "orig_array = np.arange(1, 9).reshape(2, 4)\n",
    "print(\"orig_array:\\n\", orig_array)\n",
    "\n",
    "reshaped_view = orig_array.reshape(4, 2)\n",
    "print(\"reshaped_view:\\n\", reshaped_view)\n",
    "\n",
    "reshaped_view[1, 0] = 99\n",
    "print(\"Modified reshaped_view:\\n\", reshaped_view)\n",
    "\n",
    "print(\"Modified orig_array:\\n\", orig_array)\n"
   ]
  },
  {
   "cell_type": "code",
   "execution_count": 26,
   "id": "eeda18a3-473a-4e66-8c9e-5d1e50ecb999",
   "metadata": {},
   "outputs": [
    {
     "name": "stdout",
     "output_type": "stream",
     "text": [
      "Data:\n",
      " [[7 6 3 2]\n",
      " [8 1 6 7]\n",
      " [1 9 8 9]]\n"
     ]
    }
   ],
   "source": [
    "#80. Create a NumPy array `data` of shape (3, 4) with random integers. Extract a copy `data_copy` of\n",
    "#elements greater than 5. Modify an element in `data_copy` and verify if it affects the original `data`.\n",
    "\n",
    "data = np.random.randint(1,10,(3,4))\n",
    "print(\"Data:\\n\", data)"
   ]
  },
  {
   "cell_type": "code",
   "execution_count": 30,
   "id": "141d5213-b92c-44e8-a678-318ae4830ac5",
   "metadata": {},
   "outputs": [
    {
     "data": {
      "text/plain": [
       "array([7, 6, 8, 6, 7, 9, 8, 9])"
      ]
     },
     "execution_count": 30,
     "metadata": {},
     "output_type": "execute_result"
    }
   ],
   "source": [
    "data_copy = (data[data>5])\n",
    "data_copy"
   ]
  },
  {
   "cell_type": "code",
   "execution_count": 32,
   "id": "9ff3555d-fca8-4203-b468-52cb1be781b1",
   "metadata": {},
   "outputs": [
    {
     "data": {
      "text/plain": [
       "array([7, 6, 8, 6, 7, 9, 8, 9])"
      ]
     },
     "execution_count": 32,
     "metadata": {},
     "output_type": "execute_result"
    }
   ],
   "source": [
    "a = data_copy\n",
    "a"
   ]
  },
  {
   "cell_type": "code",
   "execution_count": 33,
   "id": "2f6fcc35-ad7b-48a7-9cd5-b773bac58c9e",
   "metadata": {},
   "outputs": [
    {
     "data": {
      "text/plain": [
       "array([12,  6,  8,  6,  7,  9,  8,  9])"
      ]
     },
     "execution_count": 33,
     "metadata": {},
     "output_type": "execute_result"
    }
   ],
   "source": [
    "a[0]=12\n",
    "a"
   ]
  },
  {
   "cell_type": "code",
   "execution_count": 35,
   "id": "1b4b3df0-a217-4fb8-951f-9f9bd63719fb",
   "metadata": {},
   "outputs": [
    {
     "data": {
      "text/plain": [
       "array([12,  6,  8,  6,  7,  9,  8,  9])"
      ]
     },
     "execution_count": 35,
     "metadata": {},
     "output_type": "execute_result"
    }
   ],
   "source": [
    "data_copy   # It affects the original data."
   ]
  },
  {
   "cell_type": "code",
   "execution_count": null,
   "id": "90ff78a3-7fde-4fd9-8fc5-efcf426c014f",
   "metadata": {},
   "outputs": [],
   "source": []
  },
  {
   "cell_type": "code",
   "execution_count": 52,
   "id": "c87798ef-2440-4d83-b0dd-45c6f5784e11",
   "metadata": {},
   "outputs": [
    {
     "name": "stdout",
     "output_type": "stream",
     "text": [
      "Matrix_A:\n",
      " [[2 4 8]\n",
      " [5 7 6]\n",
      " [3 8 9]]\n",
      "Matrix_B:\n",
      " [[15  7 19]\n",
      " [ 4 12 18]\n",
      " [12 15 19]]\n",
      "Addition of matrix A+B:\n",
      " [[17 11 27]\n",
      " [ 9 19 24]\n",
      " [15 23 28]]\n",
      "Subtraction of matrix A-B:\n",
      " [[-13  -3 -11]\n",
      " [  1  -5 -12]\n",
      " [ -9  -7 -10]]\n"
     ]
    }
   ],
   "source": [
    "#81. Create two matrices A and B of identical shape containing integers and perform addition and subtraction operations between them.\n",
    "\n",
    "A = np.matrix([[2,4,8],[5,7,6],[3,8,9]])\n",
    "B = np. matrix([[15,7,19],[4,12,18],[12,15,19]])\n",
    "print(\"Matrix_A:\\n\",A)\n",
    "print(\"Matrix_B:\\n\",B)\n",
    "print(\"Addition of matrix A+B:\\n\",A+B)\n",
    "print(\"Subtraction of matrix A-B:\\n\",A-B)"
   ]
  },
  {
   "cell_type": "code",
   "execution_count": null,
   "id": "56f16eea-ce6d-453a-8eeb-070781fd5bda",
   "metadata": {},
   "outputs": [],
   "source": []
  },
  {
   "cell_type": "code",
   "execution_count": 55,
   "id": "1ce2e343-b26e-4810-81fd-e97e93df00aa",
   "metadata": {},
   "outputs": [
    {
     "name": "stdout",
     "output_type": "stream",
     "text": [
      "Matrix_A:\n",
      " [[ 2  4]\n",
      " [10 12]\n",
      " [ 5  7]]\n",
      "Matrix_B:\n",
      " [[11  3 15  5]\n",
      " [ 1  8  9 10]]\n",
      "Multiplication of A*B:\n",
      " [[ 26  38  66  50]\n",
      " [122 126 258 170]\n",
      " [ 62  71 138  95]]\n"
     ]
    }
   ],
   "source": [
    "#82. Generate two matrices `C` (3x2) and `D` (2x4) and perform matrix multiplication.\n",
    "\n",
    "A = np.matrix([[2,4],[10,12],[5,7]])\n",
    "print(\"Matrix_A:\\n\", A)\n",
    "B = np.matrix([[11,3,15,5],[1,8,9,10]])\n",
    "print(\"Matrix_B:\\n\", B)\n",
    "C = A*B\n",
    "print(\"Multiplication of A*B:\\n\", C)"
   ]
  },
  {
   "cell_type": "code",
   "execution_count": null,
   "id": "4b7367e9-c911-467e-a857-036a1757db45",
   "metadata": {},
   "outputs": [],
   "source": []
  },
  {
   "cell_type": "code",
   "execution_count": 57,
   "id": "63030d00-a043-4055-9859-ada9a8d541a4",
   "metadata": {},
   "outputs": [
    {
     "name": "stdout",
     "output_type": "stream",
     "text": [
      "[[1 2 3]\n",
      " [4 5 6]]\n",
      "\n",
      "Transposed Matrix:\n",
      "[[1 4]\n",
      " [2 5]\n",
      " [3 6]]\n"
     ]
    }
   ],
   "source": [
    "#83. Create a matrix `E` and find its transpose.\n",
    "matrix_E= np.matrix([[1, 2, 3], [4, 5, 6]])\n",
    "\n",
    "# Transposed matrix\n",
    "transposed_matrix = matrix_E.transpose()\n",
    "print(matrix_E)\n",
    "print(\"\\nTransposed Matrix:\")\n",
    "print(transposed_matrix)\n"
   ]
  },
  {
   "cell_type": "code",
   "execution_count": null,
   "id": "9774c2c2-4bd9-4195-a598-8669a57b675f",
   "metadata": {},
   "outputs": [],
   "source": []
  },
  {
   "cell_type": "code",
   "execution_count": 61,
   "id": "74ae6fcb-d0d1-409c-a033-36d64e5f8c81",
   "metadata": {},
   "outputs": [
    {
     "name": "stdout",
     "output_type": "stream",
     "text": [
      "Matrix F:\n",
      "[[2 1 3]\n",
      " [4 5 6]\n",
      " [7 8 9]]\n",
      "\n",
      "Determinant of F:\n",
      " -9.000000000000005\n"
     ]
    }
   ],
   "source": [
    "# 84. Generate a square matrix `F` and compute its determinant.\n",
    "\n",
    "F = np.array([[2, 1, 3],\n",
    "              [4, 5, 6],\n",
    "              [7, 8, 9]])\n",
    "\n",
    "# Calculate the determinant\n",
    "determinant_F = np.linalg.det(F)\n",
    "\n",
    "print(\"Matrix F:\")\n",
    "print(F)\n",
    "print(\"\\nDeterminant of F:\\n\",determinant_F)"
   ]
  },
  {
   "cell_type": "code",
   "execution_count": null,
   "id": "8c61d2f5-2140-47cf-b11d-52e846c9a1fd",
   "metadata": {},
   "outputs": [],
   "source": []
  },
  {
   "cell_type": "code",
   "execution_count": 62,
   "id": "d0c8ba71-dce0-4e7b-9211-6ecd76abc80b",
   "metadata": {},
   "outputs": [
    {
     "name": "stdout",
     "output_type": "stream",
     "text": [
      "Matrix G:\n",
      "[[2 1 3]\n",
      " [4 5 6]\n",
      " [7 8 9]]\n",
      "\n",
      "Inverse of G:\n",
      " [[ 0.33333333 -1.66666667  1.        ]\n",
      " [-0.66666667  0.33333333 -0.        ]\n",
      " [ 0.33333333  1.         -0.66666667]]\n"
     ]
    }
   ],
   "source": [
    "# 85. Create a square matrix `G` and find its inverse.\n",
    "\n",
    "G = np.array([[2, 1, 3],\n",
    "              [4, 5, 6],\n",
    "              [7, 8, 9]])\n",
    "\n",
    "# Calculate the inverse\n",
    "inverse_G = np.linalg.inv(G)\n",
    "\n",
    "print(\"Matrix G:\")\n",
    "print(G)\n",
    "print(\"\\nInverse of G:\\n\",inverse_G)"
   ]
  },
  {
   "cell_type": "code",
   "execution_count": null,
   "id": "ec9e6b3b-60f6-4a56-b821-c6e27cc90971",
   "metadata": {},
   "outputs": [],
   "source": []
  }
 ],
 "metadata": {
  "kernelspec": {
   "display_name": "Python 3 (ipykernel)",
   "language": "python",
   "name": "python3"
  },
  "language_info": {
   "codemirror_mode": {
    "name": "ipython",
    "version": 3
   },
   "file_extension": ".py",
   "mimetype": "text/x-python",
   "name": "python",
   "nbconvert_exporter": "python",
   "pygments_lexer": "ipython3",
   "version": "3.10.8"
  }
 },
 "nbformat": 4,
 "nbformat_minor": 5
}
